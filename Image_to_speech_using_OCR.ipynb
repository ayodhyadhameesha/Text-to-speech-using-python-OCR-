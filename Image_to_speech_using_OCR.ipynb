{
 "cells": [
  {
   "cell_type": "markdown",
   "metadata": {},
   "source": [
    "## This code can be used in several projects"
   ]
  },
  {
   "cell_type": "markdown",
   "metadata": {},
   "source": [
    "Example: Word reader for blind people using raspberry pi."
   ]
  },
  {
   "cell_type": "markdown",
   "metadata": {},
   "source": [
    "###  This code is implemented using OCR concept which is available as a library in python named as pytesseract.\n",
    "### The text is converted using gtts library in python which is widely used in text to speech activities"
   ]
  },
  {
   "cell_type": "code",
   "execution_count": 2,
   "metadata": {},
   "outputs": [
    {
     "name": "stdout",
     "output_type": "stream",
     "text": [
      "151200\n",
      "TPUMP\n"
     ]
    }
   ],
   "source": [
    "#Importing the libraries\n",
    "import cv2 as cv\n",
    "from gtts import gTTS\n",
    "import os\n",
    "import pytesseract\n",
    "#camera = cv.VideoCapture(1)#This part i needed when there is a rsapberry pi we can connect a switch when the switch is pressed the image is captured\n",
    "#image=camera.read()#This will load the captured, to the variable named image\n",
    "image=cv.imread(\"word_image.png\")#loaded image will be read,here a image from the memory is used\n",
    "print(image.size)#This will print the image size\n",
    "imageSize=1000 #We will resize the image beacause images are of different sizes.\n",
    "pytesseract.pytesseract.tesseract_cmd=r'C:\\Program Files\\Tesseract-OCR\\tesseract.exe'#This is aexception hadling due to and error occured\n",
    "try:\n",
    "    grayImage = cv.cvtColor(image,cv.COLOR_BGR2GRAY)#Converts the image to black and white to make analysis more easy.\n",
    "    resized=cv.resize(grayImage,(imageSize,imageSize))#The image is resized\n",
    "    #print(resized)\n",
    "    textRead=pytesseract.image_to_string(image)#We converts the image into a text\n",
    "    textConvert=textRead #Assign the readed text into a variable\n",
    "    language='en'#Assign the language\n",
    "    output=gTTS(text=textConvert,lang=language,slow=False)#Converts into audio mp3\n",
    "    output.save(\"output.mp3\")#Saving the mp3\n",
    "    os.system(\"start output.mp3\")#Reciting the mp3\n",
    "    #file = open(\"text_file\",\"w\")\n",
    "    #file.write(text1)\n",
    "    print(textConvert)#Printing the text to verify mp3 is correct\n",
    "            \n",
    "except Exception as e:\n",
    "    print(e)\n",
    "    errorText=\"There is an error please try again\"\n",
    "    language='en'#Assign the language\n",
    "    output=gTTS(text=errorText,lang=language,slow=False)#Converts into audio mp3\n",
    "    output.save(\"error.mp3\")#Saving the error mp3\n",
    "    os.system(\"start error.mp3\")#Reciting the error mp3\n",
    "    print(\"Error\")#If there is an error it will print the error\n"
   ]
  },
  {
   "cell_type": "code",
   "execution_count": null,
   "metadata": {},
   "outputs": [],
   "source": []
  }
 ],
 "metadata": {
  "kernelspec": {
   "display_name": "Python 3",
   "language": "python",
   "name": "python3"
  },
  "language_info": {
   "codemirror_mode": {
    "name": "ipython",
    "version": 3
   },
   "file_extension": ".py",
   "mimetype": "text/x-python",
   "name": "python",
   "nbconvert_exporter": "python",
   "pygments_lexer": "ipython3",
   "version": "3.6.9"
  }
 },
 "nbformat": 4,
 "nbformat_minor": 2
}
